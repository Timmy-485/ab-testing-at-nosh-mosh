{
 "cells": [
  {
   "cell_type": "code",
   "execution_count": null,
   "id": "1414f3a6",
   "metadata": {},
   "outputs": [],
   "source": [
    "import noshmishmosh\n",
    "import numpy as np\n",
    "\n",
    "\n",
    "all_visitors = noshmishmosh.customer_visits\n",
    "paying_visitors = noshmishmosh.purchasing_customers\n",
    "\n",
    "total_visitor_count = len(all_visitors)\n",
    "paying_visitor_count = len(paying_visitors)\n",
    "\n",
    "baseline = paying_visitor_count / total_visitor_count * 100\n",
    "print(baseline)\n",
    "\n",
    "payment_history = noshmishmosh.money_spent\n",
    "average_payment = np.mean(payment_history)\n",
    "new_customers_needed = np.ceil(1240 / average_payment)\n",
    "\n",
    "percentage_increase = new_customers_needed / total_visitor_count * 100\n",
    "lift = percentage_increase / baseline * 100\n",
    "print(lift)\n",
    "ab_sample_size = 495"
   ]
  }
 ],
 "metadata": {
  "kernelspec": {
   "display_name": "Python 3",
   "language": "python",
   "name": "python3"
  },
  "language_info": {
   "codemirror_mode": {
    "name": "ipython",
    "version": 3
   },
   "file_extension": ".py",
   "mimetype": "text/x-python",
   "name": "python",
   "nbconvert_exporter": "python",
   "pygments_lexer": "ipython3",
   "version": "3.8.8"
  }
 },
 "nbformat": 4,
 "nbformat_minor": 5
}
